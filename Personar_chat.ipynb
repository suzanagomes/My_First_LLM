{
  "nbformat": 4,
  "nbformat_minor": 0,
  "metadata": {
    "colab": {
      "provenance": [],
      "authorship_tag": "ABX9TyOCsV8v0knLDf/slKX6e+zL",
      "include_colab_link": true
    },
    "kernelspec": {
      "name": "python3",
      "display_name": "Python 3"
    },
    "language_info": {
      "name": "python"
    }
  },
  "cells": [
    {
      "cell_type": "markdown",
      "metadata": {
        "id": "view-in-github",
        "colab_type": "text"
      },
      "source": [
        "<a href=\"https://colab.research.google.com/github/suzanagomes/My_First_LLM/blob/main/Personar_chat.ipynb\" target=\"_parent\"><img src=\"https://colab.research.google.com/assets/colab-badge.svg\" alt=\"Open In Colab\"/></a>"
      ]
    },
    {
      "cell_type": "code",
      "execution_count": null,
      "metadata": {
        "id": "ev0vjlfBclLN"
      },
      "outputs": [],
      "source": [
        "#Instalando o SDK do Google\n",
        "!pip install -q -U google-generativeai"
      ]
    },
    {
      "cell_type": "code",
      "source": [
        "#Bibliotecas\n",
        "import pandas as pd\n",
        "\n",
        "import google.generativeai as genai\n",
        "from google.colab import userdata # USAR ISSO PRA NÁO EXPOR A API_key\n",
        "\n",
        "import textwrap\n",
        "from IPython.display import display\n",
        "from IPython.display import Markdown"
      ],
      "metadata": {
        "id": "c3S4oh7-uIaT"
      },
      "execution_count": null,
      "outputs": []
    },
    {
      "cell_type": "code",
      "source": [],
      "metadata": {
        "id": "KJBX2z4W5gji"
      },
      "execution_count": null,
      "outputs": []
    },
    {
      "cell_type": "code",
      "source": [
        "#Configurações iniciais\n",
        "\n",
        "api_key = userdata.get('SECRET_KEY')\n",
        "\n",
        "GOOGLE_API_KEY=\"\"\n",
        "genai.configure(api_key=api_key)"
      ],
      "metadata": {
        "id": "aXqGEjS_dv0n"
      },
      "execution_count": null,
      "outputs": []
    },
    {
      "cell_type": "code",
      "source": [
        "#Listando os modelos disponíveis\n",
        "for m in genai.list_models():\n",
        "  if 'generateContent' in m.supported_generation_methods:\n",
        "    print(m.name)"
      ],
      "metadata": {
        "colab": {
          "base_uri": "https://localhost:8080/",
          "height": 144
        },
        "id": "HVJ3qtaVdyal",
        "outputId": "346425cc-2182-4ec8-c473-623698a8e1e4"
      },
      "execution_count": null,
      "outputs": [
        {
          "output_type": "stream",
          "name": "stdout",
          "text": [
            "models/gemini-1.0-pro\n",
            "models/gemini-1.0-pro-001\n",
            "models/gemini-1.0-pro-latest\n",
            "models/gemini-1.0-pro-vision-latest\n",
            "models/gemini-1.5-pro-latest\n",
            "models/gemini-pro\n",
            "models/gemini-pro-vision\n"
          ]
        }
      ]
    },
    {
      "cell_type": "code",
      "source": [
        "#configurando Parametro\n",
        "generation_config = {\n",
        "  \"candidate_count\": 1, #quantidade de respostas\n",
        "  \"temperature\": 0.5, #Esse parâmetro influencia a aleatoriedade do texto gerado: mais criativo ou menos\n",
        "}\n",
        "\n",
        "#top_p (float): Esse parâmetro controla o processo de amostragem, focando em um conjunto limitado das palavras mais prováveis ​​em cada etapa\n",
        "#top_k(int): Esse parâmetro limita diretamente o número de palavras candidatas consideradas em cada etapa de geração.\n",
        "#max_output_tokens (int): Número máximo de tokens"
      ],
      "metadata": {
        "id": "qphHk-r8dydc"
      },
      "execution_count": null,
      "outputs": []
    },
    {
      "cell_type": "code",
      "source": [
        "#Configuraçóes de segurança\n",
        "safety_settings={\n",
        "    'HATE': 'BLOCK_NONE',\n",
        "    'HARASSMENT': 'BLOCK_NONE',\n",
        "    'SEXUAL' : 'BLOCK_NONE',\n",
        "    'DANGEROUS' : 'BLOCK_NONE'\n",
        "    }"
      ],
      "metadata": {
        "id": "6gw_duH-dygS"
      },
      "execution_count": null,
      "outputs": []
    },
    {
      "cell_type": "code",
      "source": [
        "#Inicializando o modelo.\n",
        "model = genai.GenerativeModel(model_name='gemini-1.0-pro',\n",
        "                                  generation_config=generation_config,\n",
        "                                  safety_settings=safety_settings,)"
      ],
      "metadata": {
        "id": "2YCZxjjUd9jT"
      },
      "execution_count": null,
      "outputs": []
    },
    {
      "cell_type": "code",
      "source": [],
      "metadata": {
        "id": "wiPItXOp8MSY"
      },
      "execution_count": null,
      "outputs": []
    },
    {
      "cell_type": "code",
      "source": [
        "#Definindo a consulta, começando com um histórico de conversa vazio\n",
        "response = model.generate_content(\"Qual empresa criou o chatGPT\")\n",
        "response.text\n"
      ],
      "metadata": {
        "id": "M93iSqG2d9mF",
        "colab": {
          "base_uri": "https://localhost:8080/",
          "height": 36
        },
        "outputId": "19c0db22-d70b-4e8d-99c3-fb0daddc3f16"
      },
      "execution_count": null,
      "outputs": [
        {
          "output_type": "execute_result",
          "data": {
            "text/plain": [
              "'OpenAI'"
            ],
            "application/vnd.google.colaboratory.intrinsic+json": {
              "type": "string"
            }
          },
          "metadata": {},
          "execution_count": 29
        }
      ]
    },
    {
      "cell_type": "markdown",
      "source": [
        "Criando um chatbot de personal trainer"
      ],
      "metadata": {
        "id": "3mZRRoXl5xmz"
      }
    },
    {
      "cell_type": "code",
      "source": [
        "class PersonalTrainer:\n",
        "    def __init__(self):\n",
        "        self.idade = 0\n",
        "        self.sexo = \"\"\n",
        "        self.atividade_semanal = 0\n",
        "        self.nivel_dificuldade = \"\"\n",
        "\n",
        "    def coletar_informacoes(self):\n",
        "        self.idade = int(input(\"Qual a sua idade? \"))\n",
        "        self.sexo = input(\"Qual o seu sexo (M/F)? \").upper()\n",
        "        self.atividade_semanal = int(input(\"Quantas vezes por semana você se exercita? \"))\n",
        "        while True:\n",
        "          try:\n",
        "            self.nivel_dificuldade = int(input(\"Você se considera em qual estágio de dificuldade? (iniciante (1), intermediario (2), avancado (3)): \"))\n",
        "            if self.nivel_dificuldade in [1, 2, 3]:\n",
        "                break\n",
        "            else:\n",
        "                print(\"Por favor, digite 1, 2 ou 3.\")\n",
        "          except ValueError:\n",
        "            print(\"Por favor, digite um número válido.\")\n",
        "\n",
        "    def gerar_prompt(self):\n",
        "        niveis = {1: \"iniciante\", 2: \"intermediario\", 3: \"avancado\"}\n",
        "        nivel_texto = niveis[self.nivel_dificuldade]\n",
        "        return f\"Crie um treino de musculação completo (pernas, braços e core) para uma pessoa de {self.idade} anos do sexo {self.sexo}, que se exercita {self.atividade_semanal} vezes por semana, com nível de dificuldade {nivel_texto}. Inclua 2 séries com 7 exercícios em cada.\"\n",
        "\n",
        "\n",
        "personal_trainer = PersonalTrainer()\n",
        "personal_trainer.coletar_informacoes()\n",
        "\n",
        "#Inicia o chat com o Gemini\n",
        "chat = model.start_chat(history=[])\n",
        "prompt = personal_trainer.gerar_prompt()\n",
        "\n",
        "while prompt != \"fim\":\n",
        "  response = chat.send_message(prompt)\n",
        "  print(\"Resposta:\", response.text, '\\n\\n')\n",
        "  prompt = input('Digite \"fim\" para encerrar ou uma nova pergunta para gerar outro treino: ')"
      ],
      "metadata": {
        "colab": {
          "base_uri": "https://localhost:8080/",
          "height": 958
        },
        "id": "yDv_ofnu9vyp",
        "outputId": "0949badd-50b8-47d6-ee0f-6e0af1c709e2"
      },
      "execution_count": null,
      "outputs": [
        {
          "name": "stdout",
          "output_type": "stream",
          "text": [
            "Qual a sua idade? 30\n",
            "Qual o seu sexo (M/F)? m\n",
            "Quantas vezes por semana você se exercita? 3\n",
            "Você se considera em qual estágio de dificuldade? (iniciante (1), intermediario (2), avancado (3)): 2\n",
            "Resposta: **Treino de Musculação Completo**\n",
            "\n",
            "**Frequência:** 3 vezes por semana\n",
            "\n",
            "**Nível de Dificuldade:** Intermediário\n",
            "\n",
            "**Séries:** 2\n",
            "\n",
            "**Exercícios:**\n",
            "\n",
            "**Pernas**\n",
            "\n",
            "* Agachamento com barra: 12-15 repetições\n",
            "* Leg press: 12-15 repetições\n",
            "* Extensora de perna: 12-15 repetições\n",
            "* Flexora de perna: 12-15 repetições\n",
            "* Panturrilha em pé: 15-20 repetições\n",
            "* Panturrilha sentada: 15-20 repetições\n",
            "\n",
            "**Braços**\n",
            "\n",
            "* Supino reto com barra: 10-12 repetições\n",
            "* Rosca direta com barra: 10-12 repetições\n",
            "* Tríceps testa com barra: 10-12 repetições\n",
            "* Rosca martelo: 10-12 repetições\n",
            "* Tríceps corda: 10-12 repetições\n",
            "* Extensora de tríceps: 15-20 repetições\n",
            "\n",
            "**Core**\n",
            "\n",
            "* Prancha: 30-60 segundos\n",
            "* Abdominal: 20-30 repetições\n",
            "* Obliques laterais: 20-30 repetições por lado\n",
            "* Elevação de perna: 20-30 repetições\n",
            "* Rolamento russo: 15-20 repetições\n",
            "* Prancha lateral: 30-60 segundos por lado\n",
            "\n",
            "**Instruções:**\n",
            "\n",
            "* Escolha um peso desafiador que permita manter uma boa forma ao longo de todas as repetições.\n",
            "* Descanse por 60-90 segundos entre as séries.\n",
            "* Descanse por 2-3 minutos entre os exercícios.\n",
            "* Concentre-se em manter a forma correta e controlar o movimento.\n",
            "* Aumente gradualmente o peso ou as repetições ao longo do tempo para progredir.\n",
            "* Ouça seu corpo e descanse quando necessário. \n",
            "\n",
            "\n",
            "Digite \"fim\" para encerrar ou uma nova pergunta para gerar outro treino: fim\n"
          ]
        }
      ]
    }
  ]
}